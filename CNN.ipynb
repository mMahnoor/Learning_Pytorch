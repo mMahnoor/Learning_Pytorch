{
 "cells": [
  {
   "cell_type": "code",
   "execution_count": 43,
   "id": "c0afbd41",
   "metadata": {},
   "outputs": [],
   "source": [
    "import torch\n",
    "import torch.nn as nn\n",
    "import torch.nn.functional as F\n",
    "from torch.utils.data import DataLoader\n",
    "from torchvision import datasets, transforms\n",
    "from torchvision.utils import make_grid\n",
    "\n",
    "import pandas as pd\n",
    "import numpy as np\n",
    "import matplotlib.pyplot as plt"
   ]
  },
  {
   "cell_type": "code",
   "execution_count": 44,
   "id": "5a01f304",
   "metadata": {},
   "outputs": [],
   "source": [
    "# Defining the tranform class for converting mnist image files\n",
    "transform = transforms.ToTensor()"
   ]
  },
  {
   "cell_type": "code",
   "execution_count": 45,
   "id": "cc7c6efe",
   "metadata": {},
   "outputs": [],
   "source": [
    "train_data = datasets.MNIST(root='data', train=True, transform=transform)"
   ]
  },
  {
   "cell_type": "code",
   "execution_count": 46,
   "id": "0ddff117",
   "metadata": {},
   "outputs": [
    {
     "data": {
      "text/plain": [
       "Dataset MNIST\n",
       "    Number of datapoints: 60000\n",
       "    Root location: data\n",
       "    Split: Train\n",
       "    StandardTransform\n",
       "Transform: ToTensor()"
      ]
     },
     "execution_count": 46,
     "metadata": {},
     "output_type": "execute_result"
    }
   ],
   "source": [
    "train_data"
   ]
  },
  {
   "cell_type": "code",
   "execution_count": 47,
   "id": "0ceac9fe",
   "metadata": {},
   "outputs": [],
   "source": [
    "test_data = datasets.MNIST(root='data', train=False, transform=transform)"
   ]
  },
  {
   "cell_type": "code",
   "execution_count": 48,
   "id": "ae918bcf",
   "metadata": {},
   "outputs": [],
   "source": [
    "#Load data\n",
    "train_loader = DataLoader(train_data, batch_size=10, shuffle=True)\n",
    "test_loader = DataLoader(test_data, batch_size=10, shuffle=False)"
   ]
  },
  {
   "cell_type": "code",
   "execution_count": null,
   "id": "29477ad1",
   "metadata": {},
   "outputs": [],
   "source": []
  },
  {
   "cell_type": "markdown",
   "id": "ff83dd98",
   "metadata": {},
   "source": [
    "### Builing a model for convolutional neural network"
   ]
  },
  {
   "cell_type": "code",
   "execution_count": 49,
   "id": "289e128e",
   "metadata": {},
   "outputs": [],
   "source": [
    "## Model Class\n",
    "\n",
    "class ConvolutionalNN(nn.Module):\n",
    "    def __init__(self):\n",
    "        super().__init__()\n",
    "        \n",
    "        self.conv1 = nn.Conv2d(1, 6, 3, 1)  # input, output, filter, stride\n",
    "        self.conv2 = nn.Conv2d(6, 16, 3, 1)\n",
    "        \n",
    "        #Fully connected layers\n",
    "        self.fc1 = nn.Linear(5*5*16, 120)\n",
    "        self.fc2 = nn.Linear(120, 84)\n",
    "        self.fc3 = nn.Linear(84, 10)\n",
    "        \n",
    "    def forward(self, X):\n",
    "        X = F.relu(self.conv1(X))\n",
    "        X = F.max_pool2d(X, 2, 2)\n",
    "        #second pass\n",
    "        X = F.relu(self.conv2(X))\n",
    "        X = F.max_pool2d(X, 2, 2)\n",
    "        \n",
    "        # Flattening\n",
    "        X = X.view(-1, 16*5*5)  # -1 is for varying batch size\n",
    "        \n",
    "        #Fully connected layers\n",
    "        X = F.relu(self.fc1(X))\n",
    "        X = F.relu(self.fc2(X))\n",
    "        X = self.fc3(X)\n",
    "        \n",
    "        return F.log_softmax(X, dim=1)"
   ]
  },
  {
   "cell_type": "code",
   "execution_count": 50,
   "id": "b34df942",
   "metadata": {},
   "outputs": [
    {
     "data": {
      "text/plain": [
       "<bound method Module.parameters of ConvolutionalNN(\n",
       "  (conv1): Conv2d(1, 6, kernel_size=(3, 3), stride=(1, 1))\n",
       "  (conv2): Conv2d(6, 16, kernel_size=(3, 3), stride=(1, 1))\n",
       "  (fc1): Linear(in_features=400, out_features=120, bias=True)\n",
       "  (fc2): Linear(in_features=120, out_features=84, bias=True)\n",
       "  (fc3): Linear(in_features=84, out_features=10, bias=True)\n",
       ")>"
      ]
     },
     "execution_count": 50,
     "metadata": {},
     "output_type": "execute_result"
    }
   ],
   "source": [
    "ConvolutionalNN().parameters"
   ]
  },
  {
   "cell_type": "code",
   "execution_count": 51,
   "id": "c8dafac5",
   "metadata": {},
   "outputs": [],
   "source": [
    "# Create an instance of the model\n",
    "\n",
    "torch.manual_seed(41)\n",
    "\n",
    "cnn_model = ConvolutionalNN()"
   ]
  },
  {
   "cell_type": "code",
   "execution_count": 52,
   "id": "47b2c4b8",
   "metadata": {},
   "outputs": [
    {
     "data": {
      "text/plain": [
       "ConvolutionalNN(\n",
       "  (conv1): Conv2d(1, 6, kernel_size=(3, 3), stride=(1, 1))\n",
       "  (conv2): Conv2d(6, 16, kernel_size=(3, 3), stride=(1, 1))\n",
       "  (fc1): Linear(in_features=400, out_features=120, bias=True)\n",
       "  (fc2): Linear(in_features=120, out_features=84, bias=True)\n",
       "  (fc3): Linear(in_features=84, out_features=10, bias=True)\n",
       ")"
      ]
     },
     "execution_count": 52,
     "metadata": {},
     "output_type": "execute_result"
    }
   ],
   "source": [
    "cnn_model"
   ]
  },
  {
   "cell_type": "code",
   "execution_count": 53,
   "id": "20445273",
   "metadata": {},
   "outputs": [],
   "source": [
    "# Loss Optimization\n",
    "\n",
    "criterion = nn.CrossEntropyLoss()\n",
    "\n",
    "optimizer = torch.optim.Adam(cnn_model.parameters(), lr=0.001)"
   ]
  },
  {
   "cell_type": "code",
   "execution_count": 54,
   "id": "bd2b98f2",
   "metadata": {},
   "outputs": [
    {
     "name": "stdout",
     "output_type": "stream",
     "text": [
      "Epoch: 0  Batch: 600  Loss: 0.15999366343021393\n",
      "Epoch: 0  Batch: 1200  Loss: 0.18979425728321075\n",
      "Epoch: 0  Batch: 1800  Loss: 0.5720335245132446\n",
      "Epoch: 0  Batch: 2400  Loss: 0.17653009295463562\n",
      "Epoch: 0  Batch: 3000  Loss: 0.008246606215834618\n",
      "Epoch: 0  Batch: 3600  Loss: 0.3012097477912903\n",
      "Epoch: 0  Batch: 4200  Loss: 0.005893906578421593\n",
      "Epoch: 0  Batch: 4800  Loss: 0.002606438472867012\n",
      "Epoch: 0  Batch: 5400  Loss: 0.058623164892196655\n",
      "Epoch: 0  Batch: 6000  Loss: 0.0002881515247281641\n",
      "Epoch: 1  Batch: 600  Loss: 0.007621835917234421\n",
      "Epoch: 1  Batch: 1200  Loss: 0.2170155942440033\n",
      "Epoch: 1  Batch: 1800  Loss: 0.0020652550738304853\n",
      "Epoch: 1  Batch: 2400  Loss: 0.005185638088732958\n",
      "Epoch: 1  Batch: 3000  Loss: 0.03448828309774399\n",
      "Epoch: 1  Batch: 3600  Loss: 0.3733625113964081\n",
      "Epoch: 1  Batch: 4200  Loss: 0.04071902483701706\n",
      "Epoch: 1  Batch: 4800  Loss: 0.0007695884560234845\n",
      "Epoch: 1  Batch: 5400  Loss: 0.00024821856641210616\n",
      "Epoch: 1  Batch: 6000  Loss: 0.16187666356563568\n",
      "Epoch: 2  Batch: 600  Loss: 0.1680620014667511\n",
      "Epoch: 2  Batch: 1200  Loss: 0.005996652878820896\n",
      "Epoch: 2  Batch: 1800  Loss: 0.000559725915081799\n",
      "Epoch: 2  Batch: 2400  Loss: 0.005800748243927956\n",
      "Epoch: 2  Batch: 3000  Loss: 0.0013891432899981737\n",
      "Epoch: 2  Batch: 3600  Loss: 0.0010827997466549277\n",
      "Epoch: 2  Batch: 4200  Loss: 0.16046036779880524\n",
      "Epoch: 2  Batch: 4800  Loss: 0.0014360565692186356\n",
      "Epoch: 2  Batch: 5400  Loss: 0.013111953623592854\n",
      "Epoch: 2  Batch: 6000  Loss: 0.21335773169994354\n",
      "Epoch: 3  Batch: 600  Loss: 0.004644033499062061\n",
      "Epoch: 3  Batch: 1200  Loss: 0.015836913138628006\n",
      "Epoch: 3  Batch: 1800  Loss: 0.0017328979447484016\n",
      "Epoch: 3  Batch: 2400  Loss: 9.995298751164228e-05\n",
      "Epoch: 3  Batch: 3000  Loss: 0.0014921778347343206\n",
      "Epoch: 3  Batch: 3600  Loss: 0.0002814879990182817\n",
      "Epoch: 3  Batch: 4200  Loss: 0.005739032290875912\n",
      "Epoch: 3  Batch: 4800  Loss: 4.916714897262864e-05\n",
      "Epoch: 3  Batch: 5400  Loss: 0.09585519880056381\n",
      "Epoch: 3  Batch: 6000  Loss: 0.004321189597249031\n",
      "Epoch: 4  Batch: 600  Loss: 0.006309146527200937\n",
      "Epoch: 4  Batch: 1200  Loss: 0.014342857524752617\n",
      "Epoch: 4  Batch: 1800  Loss: 0.06879570335149765\n",
      "Epoch: 4  Batch: 2400  Loss: 0.00019554472237359732\n",
      "Epoch: 4  Batch: 3000  Loss: 0.0011775732273235917\n",
      "Epoch: 4  Batch: 3600  Loss: 0.028693631291389465\n",
      "Epoch: 4  Batch: 4200  Loss: 0.00010215314978267998\n",
      "Epoch: 4  Batch: 4800  Loss: 0.005575673189014196\n",
      "Epoch: 4  Batch: 5400  Loss: 0.0056099798530340195\n",
      "Epoch: 4  Batch: 6000  Loss: 3.513963019941002e-05\n",
      "Training took: 3.061965052286784 minutes\n"
     ]
    }
   ],
   "source": [
    "import time\n",
    "start_time = time.time()\n",
    "\n",
    "epochs = 5\n",
    "train_losses = []\n",
    "test_losses = []\n",
    "train_correct = []\n",
    "test_correct = []\n",
    "\n",
    "for i in range(epochs):\n",
    "    train_corr = 0\n",
    "    test_corr = 0\n",
    "    \n",
    "    #Training\n",
    "    for b, (X_train, y_train) in enumerate(train_loader):\n",
    "        b+=1  #starting the batches at 1\n",
    "        y_pred = cnn_model(X_train)  #getting the predicted values from the training set !matrix here is not flattened\n",
    "        loss = criterion(y_pred, y_train) #measuring the loss\n",
    "        \n",
    "        predicted = torch.max(y_pred.data, 1)[1] #finds the maximum value along dimension 1 and accesses the second element of the tuple \n",
    "                                                 #returned by torch.max(), which contains the indices of the maximum values.\n",
    "        batch_corrects = (predicted==y_train).sum()\n",
    "        train_corr += batch_corrects\n",
    "        \n",
    "        #update params\n",
    "        optimizer.zero_grad()\n",
    "        loss.backward()\n",
    "        optimizer.step()\n",
    "        \n",
    "        if b%600 == 0:\n",
    "            print(f'Epoch: {i}  Batch: {b}  Loss: {loss.item()}')\n",
    "            \n",
    "    train_losses.append(loss)\n",
    "    train_correct.append(train_corr)\n",
    "    \n",
    "    #Validation\n",
    "    with torch.no_grad():  #weights are not updated\n",
    "        for b, (X_test, y_test) in enumerate(test_loader):\n",
    "            y_val = cnn_model(X_test)\n",
    "            \n",
    "            predicted = torch.max(y_val.data, 1)[1]\n",
    "            test_corr += (predicted==y_test).sum()\n",
    "            \n",
    "    loss = criterion(y_val, y_test)\n",
    "    test_losses.append(loss)\n",
    "    test_correct.append(test_corr)\n",
    "\n",
    "current_time = time.time()\n",
    "total = current_time - start_time\n",
    "print(f'Training took: {total/60} minutes')"
   ]
  },
  {
   "cell_type": "markdown",
   "id": "bb3cc163",
   "metadata": {},
   "source": [
    "### Visualising the losses"
   ]
  },
  {
   "cell_type": "code",
   "execution_count": 55,
   "id": "4b37d678",
   "metadata": {},
   "outputs": [
    {
     "data": {
      "text/plain": [
       "[]"
      ]
     },
     "execution_count": 55,
     "metadata": {},
     "output_type": "execute_result"
    },
    {
     "data": {
      "image/png": "[encoded data removed]",
      "text/plain": [
       "<Figure size 432x288 with 1 Axes>"
      ]
     },
     "metadata": {
      "needs_background": "light"
     },
     "output_type": "display_data"
    }
   ],
   "source": [
    "plt.plot([td.item() for td in train_losses], label='Training losses')\n",
    "plt.plot(test_losses, label='Validation losses')\n",
    "plt.title('Loss at Epoch')\n",
    "plt.legend()\n",
    "plt.plot()"
   ]
  },
  {
   "cell_type": "code",
   "execution_count": null,
   "id": "0328a8a0",
   "metadata": {},
   "outputs": [],
   "source": []
  }
 ],
 "metadata": {
  "kernelspec": {
   "display_name": "Python 3 (ipykernel)",
   "language": "python",
   "name": "python3"
  },
  "language_info": {
   "codemirror_mode": {
    "name": "ipython",
    "version": 3
   },
   "file_extension": ".py",
   "mimetype": "text/x-python",
   "name": "python",
   "nbconvert_exporter": "python",
   "pygments_lexer": "ipython3",
   "version": "3.9.12"
  }
 },
 "nbformat": 4,
 "nbformat_minor": 5
}
