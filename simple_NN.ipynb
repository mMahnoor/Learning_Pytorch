{
 "cells": [
  {
   "cell_type": "code",
   "execution_count": 2,
   "id": "a354b726",
   "metadata": {},
   "outputs": [],
   "source": [
    "import torch\n",
    "import torch.nn as nn\n",
    "import torch.nn.functional as F  #helps moving data forward in the function"
   ]
  },
  {
   "cell_type": "markdown",
   "id": "72fbb027",
   "metadata": {},
   "source": [
    "### Defining custom nn model"
   ]
  },
  {
   "cell_type": "code",
   "execution_count": 3,
   "id": "a0710280",
   "metadata": {},
   "outputs": [],
   "source": [
    "class Model(nn.Module):  # inherits nn.Module class\n",
    "    \n",
    "    def __init__(self, in_ft=4, h1=8, h2=8, out_ft=3):\n",
    "        super().__init__()  #instantiate nn.Module\n",
    "        self.fc1 = nn.Linear(in_ft,h1)\n",
    "        self.fc2 = nn.Linear(h1,h2)\n",
    "        self.out = nn.Linear(h2,out_ft)\n",
    "        \n",
    "    def forward(self, x):\n",
    "        x = F.relu(self.fc1(x)) # forward the calculated data with function activation to hidden layer h1\n",
    "        x = F.relu(self.fc2(x)) # forward the calculated data with function activation to hidden layer h2\n",
    "        x = self.out(x) # forward the data to output layer\n",
    "        \n",
    "        return x"
   ]
  },
  {
   "cell_type": "code",
   "execution_count": 4,
   "id": "0746a58a",
   "metadata": {},
   "outputs": [],
   "source": [
    "#Creating model instance\n",
    "model = Model()"
   ]
  },
  {
   "cell_type": "code",
   "execution_count": null,
   "id": "df0fb1a3",
   "metadata": {},
   "outputs": [],
   "source": []
  }
 ],
 "metadata": {
  "kernelspec": {
   "display_name": "Python 3 (ipykernel)",
   "language": "python",
   "name": "python3"
  },
  "language_info": {
   "codemirror_mode": {
    "name": "ipython",
    "version": 3
   },
   "file_extension": ".py",
   "mimetype": "text/x-python",
   "name": "python",
   "nbconvert_exporter": "python",
   "pygments_lexer": "ipython3",
   "version": "3.9.12"
  }
 },
 "nbformat": 4,
 "nbformat_minor": 5
}
